{
 "cells": [
  {
   "cell_type": "markdown",
   "metadata": {},
   "source": [
    "## Программа для обновления данных в справочниках dict_gtprge_gen и dict_registry_gen"
   ]
  },
  {
   "cell_type": "code",
   "execution_count": 17,
   "metadata": {},
   "outputs": [
    {
     "name": "stdout",
     "output_type": "stream",
     "text": [
      "Populating the interactive namespace from numpy and matplotlib\n"
     ]
    }
   ],
   "source": [
    "import pandas as pd\n",
    "import requests\n",
    "from sqlalchemy import create_engine\n",
    "from datetime import date\n",
    "from day_ahead_scripts import config\n",
    "import warnings\n",
    "import traceback\n",
    "from xlsxwriter import workbook\n",
    "from openpyxl import load_workbook\n",
    "import numpy as np\n",
    "from matplotlib import pyplot as plt\n",
    "import seaborn as sns\n",
    "%pylab inline\n",
    "warnings.filterwarnings('ignore')"
   ]
  },
  {
   "cell_type": "markdown",
   "metadata": {},
   "source": [
    "### Загружаем наиболее актуальные данные из РИО"
   ]
  },
  {
   "cell_type": "code",
   "execution_count": 18,
   "metadata": {},
   "outputs": [],
   "source": [
    "rio_data = pd.read_excel('data/RIO_2018_05.xlsx')"
   ]
  },
  {
   "cell_type": "code",
   "execution_count": 3,
   "metadata": {},
   "outputs": [
    {
     "data": {
      "text/html": [
       "<div>\n",
       "<style scoped>\n",
       "    .dataframe tbody tr th:only-of-type {\n",
       "        vertical-align: middle;\n",
       "    }\n",
       "\n",
       "    .dataframe tbody tr th {\n",
       "        vertical-align: top;\n",
       "    }\n",
       "\n",
       "    .dataframe thead th {\n",
       "        text-align: right;\n",
       "    }\n",
       "</style>\n",
       "<table border=\"1\" class=\"dataframe\">\n",
       "  <thead>\n",
       "    <tr style=\"text-align: right;\">\n",
       "      <th></th>\n",
       "      <th>TRADER_CODE</th>\n",
       "      <th>COMPANY_NAME</th>\n",
       "      <th>ZSP</th>\n",
       "      <th>STATION_NAME</th>\n",
       "      <th>STATION_CODE</th>\n",
       "      <th>GTP_CODE</th>\n",
       "      <th>GTP_NAME</th>\n",
       "      <th>PRICE_ZONE_CODE</th>\n",
       "      <th>OES</th>\n",
       "      <th>RGE_CODE</th>\n",
       "      <th>RGE_NAME</th>\n",
       "      <th>PUST_RGE</th>\n",
       "      <th>IS_SPOT_TRADER</th>\n",
       "      <th>PUST_GTP</th>\n",
       "      <th>REGION_CODE</th>\n",
       "      <th>REGION_NAME</th>\n",
       "    </tr>\n",
       "  </thead>\n",
       "  <tbody>\n",
       "    <tr>\n",
       "      <th>0</th>\n",
       "      <td>ABAKANKS</td>\n",
       "      <td>ООО \"Абаканская СЭС\"</td>\n",
       "      <td>1.0</td>\n",
       "      <td>Солнечная электростанция \"Абаканская\"</td>\n",
       "      <td>SVIE0034</td>\n",
       "      <td>GVIE0034</td>\n",
       "      <td>Солнечная электростанция \"Абаканская\"</td>\n",
       "      <td>2</td>\n",
       "      <td>10</td>\n",
       "      <td>10937</td>\n",
       "      <td>Солнечная электростанция \"Абаканская\"</td>\n",
       "      <td>5.198</td>\n",
       "      <td>1</td>\n",
       "      <td>5.198</td>\n",
       "      <td>95</td>\n",
       "      <td>Республика Хакасия</td>\n",
       "    </tr>\n",
       "    <tr>\n",
       "      <th>1</th>\n",
       "      <td>ALTAENSB</td>\n",
       "      <td>АО \"Алтайэнергосбыт\"</td>\n",
       "      <td>6.0</td>\n",
       "      <td>МУП \"Рубцовский тепловой комплекс\"</td>\n",
       "      <td>BALTENE4</td>\n",
       "      <td>GALTENE4</td>\n",
       "      <td>МУП \"Рубцовский тепловой комплекс\"</td>\n",
       "      <td>2</td>\n",
       "      <td>10</td>\n",
       "      <td>10100</td>\n",
       "      <td>МУП \"Рубцовский тепловой комплекс\"</td>\n",
       "      <td>18.000</td>\n",
       "      <td>0</td>\n",
       "      <td>18.000</td>\n",
       "      <td>1</td>\n",
       "      <td>Алтайский край</td>\n",
       "    </tr>\n",
       "    <tr>\n",
       "      <th>2</th>\n",
       "      <td>ALTAENSB</td>\n",
       "      <td>АО \"Алтайэнергосбыт\"</td>\n",
       "      <td>6.0</td>\n",
       "      <td>ОАО \"Кучуксульфат\"</td>\n",
       "      <td>BALTENE5</td>\n",
       "      <td>GALTENE5</td>\n",
       "      <td>ОАО \"Кучуксульфат\"</td>\n",
       "      <td>2</td>\n",
       "      <td>10</td>\n",
       "      <td>10701</td>\n",
       "      <td>ОАО \"Кучуксульфат\"</td>\n",
       "      <td>18.000</td>\n",
       "      <td>0</td>\n",
       "      <td>18.000</td>\n",
       "      <td>1</td>\n",
       "      <td>Алтайский край</td>\n",
       "    </tr>\n",
       "    <tr>\n",
       "      <th>3</th>\n",
       "      <td>ALTAENSB</td>\n",
       "      <td>АО \"Алтайэнергосбыт\"</td>\n",
       "      <td>6.0</td>\n",
       "      <td>МУП \"Яровской теплоэлектрокомплекс\"</td>\n",
       "      <td>BALTENE6</td>\n",
       "      <td>GALTENE6</td>\n",
       "      <td>МУП \"Яровской теплоэлектрокомплекс\"</td>\n",
       "      <td>2</td>\n",
       "      <td>10</td>\n",
       "      <td>10702</td>\n",
       "      <td>МУП \"Яровской теплоэлектрокомплекс\"</td>\n",
       "      <td>24.000</td>\n",
       "      <td>0</td>\n",
       "      <td>24.000</td>\n",
       "      <td>1</td>\n",
       "      <td>Алтайский край</td>\n",
       "    </tr>\n",
       "    <tr>\n",
       "      <th>4</th>\n",
       "      <td>ALTAENSB</td>\n",
       "      <td>АО \"Алтайэнергосбыт\"</td>\n",
       "      <td>6.0</td>\n",
       "      <td>ЗАО \"Инновация\" (Газопоршневая электрогенераци...</td>\n",
       "      <td>BALTENE7</td>\n",
       "      <td>GALTENE7</td>\n",
       "      <td>ЗАО \"Инновация\" (Газопоршневая электрогенераци...</td>\n",
       "      <td>2</td>\n",
       "      <td>10</td>\n",
       "      <td>10703</td>\n",
       "      <td>ЗАО \"Инновация\" (Газопоршневая электрогенераци...</td>\n",
       "      <td>16.000</td>\n",
       "      <td>0</td>\n",
       "      <td>16.000</td>\n",
       "      <td>1</td>\n",
       "      <td>Алтайский край</td>\n",
       "    </tr>\n",
       "  </tbody>\n",
       "</table>\n",
       "</div>"
      ],
      "text/plain": [
       "  TRADER_CODE          COMPANY_NAME  ZSP  \\\n",
       "0    ABAKANKS  ООО \"Абаканская СЭС\"  1.0   \n",
       "1    ALTAENSB  АО \"Алтайэнергосбыт\"  6.0   \n",
       "2    ALTAENSB  АО \"Алтайэнергосбыт\"  6.0   \n",
       "3    ALTAENSB  АО \"Алтайэнергосбыт\"  6.0   \n",
       "4    ALTAENSB  АО \"Алтайэнергосбыт\"  6.0   \n",
       "\n",
       "                                        STATION_NAME STATION_CODE  GTP_CODE  \\\n",
       "0              Солнечная электростанция \"Абаканская\"     SVIE0034  GVIE0034   \n",
       "1                 МУП \"Рубцовский тепловой комплекс\"     BALTENE4  GALTENE4   \n",
       "2                                 ОАО \"Кучуксульфат\"     BALTENE5  GALTENE5   \n",
       "3                МУП \"Яровской теплоэлектрокомплекс\"     BALTENE6  GALTENE6   \n",
       "4  ЗАО \"Инновация\" (Газопоршневая электрогенераци...     BALTENE7  GALTENE7   \n",
       "\n",
       "                                            GTP_NAME  PRICE_ZONE_CODE  OES  \\\n",
       "0              Солнечная электростанция \"Абаканская\"                2   10   \n",
       "1                 МУП \"Рубцовский тепловой комплекс\"                2   10   \n",
       "2                                 ОАО \"Кучуксульфат\"                2   10   \n",
       "3                МУП \"Яровской теплоэлектрокомплекс\"                2   10   \n",
       "4  ЗАО \"Инновация\" (Газопоршневая электрогенераци...                2   10   \n",
       "\n",
       "   RGE_CODE                                           RGE_NAME  PUST_RGE  \\\n",
       "0     10937              Солнечная электростанция \"Абаканская\"     5.198   \n",
       "1     10100                 МУП \"Рубцовский тепловой комплекс\"    18.000   \n",
       "2     10701                                 ОАО \"Кучуксульфат\"    18.000   \n",
       "3     10702                МУП \"Яровской теплоэлектрокомплекс\"    24.000   \n",
       "4     10703  ЗАО \"Инновация\" (Газопоршневая электрогенераци...    16.000   \n",
       "\n",
       "   IS_SPOT_TRADER  PUST_GTP  REGION_CODE         REGION_NAME  \n",
       "0               1     5.198           95  Республика Хакасия  \n",
       "1               0    18.000            1      Алтайский край  \n",
       "2               0    18.000            1      Алтайский край  \n",
       "3               0    24.000            1      Алтайский край  \n",
       "4               0    16.000            1      Алтайский край  "
      ]
     },
     "execution_count": 3,
     "metadata": {},
     "output_type": "execute_result"
    }
   ],
   "source": [
    "rio_data.head()"
   ]
  },
  {
   "cell_type": "markdown",
   "metadata": {},
   "source": [
    "### Загружаем наиболее актуальные данные из справочников Exergy "
   ]
  },
  {
   "cell_type": "code",
   "execution_count": 19,
   "metadata": {},
   "outputs": [],
   "source": [
    "dict_gtprge_gen = pd.read_excel('data/hdbk_326.xlsx', sheet_name='GTPRGE_GEN')\n",
    "dict_registry_gen = pd.read_excel('data/hdbk_326.xlsx', sheet_name='REGISTRY_GEN')\n",
    "dict_gtprge_gen.columns = [s.upper() for s in dict_gtprge_gen.columns]\n",
    "dict_registry_gen.columns = [s.upper() for s in dict_registry_gen.columns]"
   ]
  },
  {
   "cell_type": "code",
   "execution_count": 46,
   "metadata": {},
   "outputs": [],
   "source": [
    "#dict_gtprge_gen.head()\n",
    "#dict_registry_gen.head()"
   ]
  },
  {
   "cell_type": "markdown",
   "metadata": {},
   "source": [
    "### Загружаем перечень РГЕ из таблицы model1.res_rge, которые отсутствуют в таблице model1.dict_gtprge_gen"
   ]
  },
  {
   "cell_type": "code",
   "execution_count": 6,
   "metadata": {},
   "outputs": [],
   "source": [
    "# helper function for launching queries to database\n",
    "def launch_query(query):\n",
    "    print('Executing query...')\n",
    "    engine = create_engine(config.db_conn)\n",
    "    result = pd.read_sql(query, engine)\n",
    "    print('Executing finished!')\n",
    "    return result"
   ]
  },
  {
   "cell_type": "code",
   "execution_count": 4,
   "metadata": {},
   "outputs": [],
   "source": [
    "def construct_query(start_date, end_date, version):    \n",
    "    query = f\"\"\"\n",
    "        select distinct\n",
    "            rge\n",
    "        from\n",
    "            model1.res_rge\n",
    "        where\n",
    "            date = '{end_date:%Y-%m-%d}'\n",
    "            and version = {version}\n",
    "        except\n",
    "        select distinct\n",
    "            rge\n",
    "        from\n",
    "            model1.dict_gtprge_gen\n",
    "        where\n",
    "            date between '{start_date:%Y-%m-%d}' \n",
    "                and '2018-05-01'\n",
    "        order by \n",
    "            rge\"\"\"\n",
    "    return query"
   ]
  },
  {
   "cell_type": "code",
   "execution_count": 13,
   "metadata": {},
   "outputs": [
    {
     "name": "stdout",
     "output_type": "stream",
     "text": [
      "Executing query...\n",
      "Executing finished!\n",
      "\n",
      "List of RGE, which are missing on dict_gtprge_gen sheet of dictionary file:\n",
      "[1008, 1009, 1824, 1825, 1972, 2013, 4202, 4203, 4205, 5079]\n"
     ]
    }
   ],
   "source": [
    "# launching query\n",
    "date_to = date(2018,3,1)\n",
    "date_from = date(2018,5,1)\n",
    "version = 0\n",
    "missing_rge_list = list(launch_query(construct_query(date_from, date_to, version))['rge'].values)\n",
    "print('\\nList of RGE, which are missing on dict_gtprge_gen sheet of dictionary file:\\n' + str(missing_rge_list))"
   ]
  },
  {
   "cell_type": "code",
   "execution_count": 11,
   "metadata": {},
   "outputs": [
    {
     "data": {
      "text/plain": [
       "0"
      ]
     },
     "execution_count": 11,
     "metadata": {},
     "output_type": "execute_result"
    }
   ],
   "source": [
    "len(missing_rge_list)"
   ]
  },
  {
   "cell_type": "markdown",
   "metadata": {},
   "source": [
    "### Выбираем наиболее актуальную информацию из РИО по отсутствующим РГЕ"
   ]
  },
  {
   "cell_type": "code",
   "execution_count": 188,
   "metadata": {},
   "outputs": [],
   "source": [
    "rio_missing_rge_data = rio_data[rio_data.RGE_CODE.isin(missing_rge_list)]\n",
    "dict_rge_cols = dict_gtprge_gen.columns"
   ]
  },
  {
   "cell_type": "code",
   "execution_count": 189,
   "metadata": {},
   "outputs": [],
   "source": [
    "# preparing missing rio_missing_rge_data for union with dict\n",
    "rio_missing_rge_data.columns = ['TRADER_CODE', 'COMPANY_NAME', 'ZSP', 'STATION_NAME', 'STATION_CODE',\n",
    "       'GTP_CODE', 'GTP_NAME', 'PRICE_ZONE_CODE', 'OES', 'RGE_NUM',\n",
    "       'RGE_NAME', 'PUST_RGE', 'IS_SPOT_TRADER', 'PUST_GTP', 'REGION_CODE',\n",
    "       'REGION_NAME']\n",
    "rio_missing_rge_data['DAY_AHEAD_TYPE'] = rio_missing_rge_data['IS_SPOT_TRADER'].map(lambda v: 0 if v == 1 else 2)\n",
    "rio_missing_rge_data['DATE_FROM'] = pd.to_datetime(date.today().replace(day=1).isoformat())\n",
    "#rio_missing_rge_data['DATE_TO'] = \n",
    "#rio_missing_rge_data['AUTHOR'] = 'i.zemskov@skmmp.ru'\n",
    "rio_missing_rge_data['STATE'] = 3\n",
    "#rio_missing_rge_data['DATE_MODIFIED'] = date.today().isoformat()\n",
    "rio_missing_rge_data['COMMENT'] = ''\n",
    "rio_cols = rio_missing_rge_data.columns"
   ]
  },
  {
   "cell_type": "code",
   "execution_count": 191,
   "metadata": {},
   "outputs": [],
   "source": [
    "#rio_missing_rge_data.head()"
   ]
  },
  {
   "cell_type": "code",
   "execution_count": 192,
   "metadata": {},
   "outputs": [],
   "source": [
    "# select common column names of rio_mising_data and dict_gtprge_gen frames\n",
    "rio_data_to_insert = rio_missing_rge_data[[c for c in rio_cols if c in dict_rge_cols]]"
   ]
  },
  {
   "cell_type": "markdown",
   "metadata": {},
   "source": [
    "### Добавляем новые строки в справочник на лист 'GTPRGE_GEN'"
   ]
  },
  {
   "cell_type": "code",
   "execution_count": 193,
   "metadata": {},
   "outputs": [],
   "source": [
    "dict_gtprge_gen_updated = pd.concat([dict_gtprge_gen, rio_data_to_insert], axis = 0).sort_values(by=['STATION_CODE', 'RGE_NUM'])\n",
    "#dict_gtprge_gen_updated.DATE_FROM = pd.to_datetime(date.today().isoformat())#pd.to_datetime(date.strftime(date.today(), '%d.%m.%Y'))\n",
    "dict_gtprge_gen_updated.DATE_MODIFIED = pd.to_datetime(date.today().isoformat())#pd.to_datetime(date.strftime(date.today(), '%d.%m.%Y'))\n",
    "dict_gtprge_gen_updated.AUTHOR = 'i.zemskov@skmmp.ru'"
   ]
  },
  {
   "cell_type": "code",
   "execution_count": 194,
   "metadata": {},
   "outputs": [],
   "source": [
    "lower_dict_rge_cols = dict_rge_cols.map(lambda s: s.lower())\n",
    "dict_gtprge_gen_updated.columns = dict_gtprge_gen_updated.columns.map(lambda s: s.lower())\n",
    "# updating excel file\n",
    "book = load_workbook('data/hdbk_323.xlsx')\n",
    "writer = pd.ExcelWriter('data/hdbk_323.xlsx', engine='openpyxl')\n",
    "writer.book = book\n",
    "writer.sheets = dict((ws.title, ws) for ws in book.worksheets)\n",
    "dict_gtprge_gen_updated[lower_dict_rge_cols].to_excel(writer, sheet_name='GTPRGE_GEN', index=False)\n",
    "writer.save()\n",
    "writer.close()"
   ]
  },
  {
   "cell_type": "code",
   "execution_count": 158,
   "metadata": {},
   "outputs": [
    {
     "name": "stdout",
     "output_type": "stream",
     "text": [
      "Table dict_gtprge_gen updated!\n"
     ]
    }
   ],
   "source": [
    "try:\n",
    "    assert(dict_gtprge_gen_updated.shape[0] == dict_gtprge_gen.shape[0] + len(missing_rge_list))\n",
    "    print('Table dict_gtprge_gen updated!')\n",
    "except AssertionError as e:\n",
    "    print(\"Something's gone wrong!\")\n",
    "    traceback.print_exc()"
   ]
  },
  {
   "cell_type": "code",
   "execution_count": 15,
   "metadata": {},
   "outputs": [
    {
     "name": "stdout",
     "output_type": "stream",
     "text": [
      "<class 'pandas.core.frame.DataFrame'>\n",
      "Int64Index: 1504 entries, 1018 to 444\n",
      "Data columns (total 13 columns):\n",
      "station_code      1504 non-null object\n",
      "station_name      1504 non-null object\n",
      "gtp_code          1504 non-null object\n",
      "gtp_name          1504 non-null object\n",
      "rge_num           1504 non-null int64\n",
      "rge_name          1504 non-null object\n",
      "day_ahead_type    1504 non-null object\n",
      "date_from         1504 non-null datetime64[ns]\n",
      "date_to           161 non-null datetime64[ns]\n",
      "author            1504 non-null object\n",
      "state             1504 non-null int64\n",
      "date_modified     1504 non-null datetime64[ns]\n",
      "comment           9 non-null float64\n",
      "dtypes: datetime64[ns](3), float64(1), int64(2), object(7)\n",
      "memory usage: 164.5+ KB\n"
     ]
    }
   ],
   "source": [
    "dict_gtprge_gen_updated[lower_dict_rge_cols].info()"
   ]
  },
  {
   "cell_type": "markdown",
   "metadata": {},
   "source": [
    "### Получаем список станций, которые есть в РИО, но отсутствуют в dict_registry_gen"
   ]
  },
  {
   "cell_type": "code",
   "execution_count": 234,
   "metadata": {},
   "outputs": [],
   "source": [
    "rio_stations = list(pd.unique(rio_data.STATION_CODE))\n",
    "dict_stations = list(pd.unique(dict_registry_gen.STATION_CODE))\n",
    "missing_stations = [st for st in rio_stations if st not in dict_stations]"
   ]
  },
  {
   "cell_type": "code",
   "execution_count": 235,
   "metadata": {},
   "outputs": [],
   "source": [
    "missing_stations_data = rio_data[rio_data.STATION_CODE.isin(missing_stations)] \\\n",
    "    .filter(items=['TRADER_CODE', 'COMPANY_NAME', 'STATION_CODE', 'STATION_NAME'], axis=1) \\\n",
    "    .rename(columns={'COMPANY_NAME': 'TRADER_NAME'}) \\\n",
    "    .drop_duplicates()"
   ]
  },
  {
   "cell_type": "code",
   "execution_count": 236,
   "metadata": {},
   "outputs": [],
   "source": [
    "# helper function for extracting station_type value from station_name column\n",
    "def extract_station_type(st_name):\n",
    "    \n",
    "    \"\"\"Function for generating station_type value from station_name\n",
    "        Attributes: st_name - string with station_name value\"\"\"\n",
    "    \n",
    "    s_u = st_name.upper()\n",
    "    if any(word in s_u for word in ['ТЭЦ', 'ТЭС', 'ГПЭС', 'ДЭС', 'ПГУ']):\n",
    "        return 1\n",
    "    elif 'ГЭС' in s_u:\n",
    "        return 2\n",
    "    elif 'АЭС' in s_u:\n",
    "        return 3\n",
    "    elif 'ГРЭС' in s_u:\n",
    "        return 4\n",
    "    elif 'СЭС' in s_u or 'СОЛНЕЧНАЯ' in s_u:\n",
    "        return 5\n",
    "    elif 'ВЭС' in s_u or 'ВЕТРОВАЯ' in s_u:\n",
    "        return 6\n",
    "    else:\n",
    "        print(\"Тип станции '{}' не опрелелен\".format(st_name))\n",
    "        return 0"
   ]
  },
  {
   "cell_type": "code",
   "execution_count": 237,
   "metadata": {},
   "outputs": [],
   "source": [
    "missing_stations_data['STATION_TYPE'] = missing_stations_data.STATION_NAME.map(extract_station_type)"
   ]
  },
  {
   "cell_type": "code",
   "execution_count": 238,
   "metadata": {},
   "outputs": [
    {
     "data": {
      "text/html": [
       "<div>\n",
       "<style scoped>\n",
       "    .dataframe tbody tr th:only-of-type {\n",
       "        vertical-align: middle;\n",
       "    }\n",
       "\n",
       "    .dataframe tbody tr th {\n",
       "        vertical-align: top;\n",
       "    }\n",
       "\n",
       "    .dataframe thead th {\n",
       "        text-align: right;\n",
       "    }\n",
       "</style>\n",
       "<table border=\"1\" class=\"dataframe\">\n",
       "  <thead>\n",
       "    <tr style=\"text-align: right;\">\n",
       "      <th></th>\n",
       "      <th>TRADER_CODE</th>\n",
       "      <th>TRADER_NAME</th>\n",
       "      <th>STATION_CODE</th>\n",
       "      <th>STATION_NAME</th>\n",
       "      <th>STATION_TYPE</th>\n",
       "    </tr>\n",
       "  </thead>\n",
       "  <tbody>\n",
       "    <tr>\n",
       "      <th>123</th>\n",
       "      <td>CHELENER</td>\n",
       "      <td>ПАО \"Челябэнергосбыт\"</td>\n",
       "      <td>SCHELE12</td>\n",
       "      <td>ТЭЦ ОАО \"ЭнСер\"</td>\n",
       "      <td>1</td>\n",
       "    </tr>\n",
       "    <tr>\n",
       "      <th>135</th>\n",
       "      <td>DALVOSGK</td>\n",
       "      <td>АО \"ДГК\"</td>\n",
       "      <td>SAMUREN1</td>\n",
       "      <td>Благовещенская ТЭЦ</td>\n",
       "      <td>1</td>\n",
       "    </tr>\n",
       "    <tr>\n",
       "      <th>139</th>\n",
       "      <td>DALVOSGK</td>\n",
       "      <td>АО \"ДГК\"</td>\n",
       "      <td>SAMUREN2</td>\n",
       "      <td>Райчихинская ГРЭС</td>\n",
       "      <td>4</td>\n",
       "    </tr>\n",
       "    <tr>\n",
       "      <th>143</th>\n",
       "      <td>DALVOSGK</td>\n",
       "      <td>АО \"ДГК\"</td>\n",
       "      <td>SDALENE1</td>\n",
       "      <td>Артемовская ТЭЦ</td>\n",
       "      <td>1</td>\n",
       "    </tr>\n",
       "    <tr>\n",
       "      <th>145</th>\n",
       "      <td>DALVOSGK</td>\n",
       "      <td>АО \"ДГК\"</td>\n",
       "      <td>SDALENE2</td>\n",
       "      <td>Партизанская ГРЭС</td>\n",
       "      <td>4</td>\n",
       "    </tr>\n",
       "  </tbody>\n",
       "</table>\n",
       "</div>"
      ],
      "text/plain": [
       "    TRADER_CODE            TRADER_NAME STATION_CODE        STATION_NAME  \\\n",
       "123    CHELENER  ПАО \"Челябэнергосбыт\"     SCHELE12     ТЭЦ ОАО \"ЭнСер\"   \n",
       "135    DALVOSGK               АО \"ДГК\"     SAMUREN1  Благовещенская ТЭЦ   \n",
       "139    DALVOSGK               АО \"ДГК\"     SAMUREN2   Райчихинская ГРЭС   \n",
       "143    DALVOSGK               АО \"ДГК\"     SDALENE1     Артемовская ТЭЦ   \n",
       "145    DALVOSGK               АО \"ДГК\"     SDALENE2   Партизанская ГРЭС   \n",
       "\n",
       "     STATION_TYPE  \n",
       "123             1  \n",
       "135             1  \n",
       "139             4  \n",
       "143             1  \n",
       "145             4  "
      ]
     },
     "execution_count": 238,
     "metadata": {},
     "output_type": "execute_result"
    }
   ],
   "source": [
    "missing_stations_data.head()"
   ]
  },
  {
   "cell_type": "code",
   "execution_count": 288,
   "metadata": {},
   "outputs": [],
   "source": [
    "# helper function to retrieve information about holding by trader_code\n",
    "def retrieve_holding_info(df, miss):\n",
    "    \n",
    "    \"\"\"Function for retrieving information about holding from \n",
    "        existing pairs tradec_code -> holding in dict_registry_gen\n",
    "        Attributes: \n",
    "            df - distinct selection of pairs tradec_code -> holding\n",
    "                from dict_registry_gen table (columns: TRADER_CODE, HOLDING, CODE)\n",
    "            tcode_list - list of trader_code values of dataframe \n",
    "                        with missing stations\"\"\"\n",
    "    \n",
    "    res = dict()\n",
    "    for k, v in miss.items():\n",
    "        df_t = df[df.TRADER_CODE == k].drop_duplicates()\n",
    "        if df_t.empty:\n",
    "            res[k] = (v, k)\n",
    "            print(f'Trader code {t} was not mentioned before in dict_registry_gen table!')\n",
    "        else:\n",
    "            res[k] = (df_t.HOLDING.values[0], df_t.CODE.values[0])\n",
    "    return res"
   ]
  },
  {
   "cell_type": "code",
   "execution_count": 289,
   "metadata": {},
   "outputs": [
    {
     "name": "stdout",
     "output_type": "stream",
     "text": [
      "Trader code a was not mentioned before in dict_registry_gen table!\n",
      "Trader code a was not mentioned before in dict_registry_gen table!\n",
      "Trader code a was not mentioned before in dict_registry_gen table!\n",
      "Trader code a was not mentioned before in dict_registry_gen table!\n"
     ]
    }
   ],
   "source": [
    "miss = missing_stations_data[['TRADER_CODE', 'TRADER_NAME']].drop_duplicates(). \\\n",
    "    set_index('TRADER_CODE').to_dict().get('TRADER_NAME')\n",
    "holding_tcode_dict = retrieve_holding_info(dict_registry_gen[['TRADER_CODE', 'TRADER_NAME', 'HOLDING', 'CODE']].drop_duplicates(), \\\n",
    "                                           miss)"
   ]
  },
  {
   "cell_type": "code",
   "execution_count": 297,
   "metadata": {},
   "outputs": [],
   "source": [
    "missing_stations_data['HOLDING'] = missing_stations_data.TRADER_CODE.map(lambda t: holding_tcode_dict.get(t)[0])\n",
    "missing_stations_data['CODE'] = missing_stations_data.TRADER_CODE.map(lambda t: holding_tcode_dict.get(t)[1])\n",
    "missing_stations_data['DATE_FROM'] = pd.to_datetime(date.today().replace(day=1).isoformat())"
   ]
  },
  {
   "cell_type": "markdown",
   "metadata": {},
   "source": [
    "### Добавляем данные в таблицу словаря"
   ]
  },
  {
   "cell_type": "code",
   "execution_count": 302,
   "metadata": {},
   "outputs": [],
   "source": [
    "dict_registry_gen_updated = pd.concat([dict_registry_gen, missing_stations_data], axis = 0).sort_values(by=['STATION_CODE'])"
   ]
  },
  {
   "cell_type": "code",
   "execution_count": 305,
   "metadata": {},
   "outputs": [],
   "source": [
    "dict_registry_gen_updated.DATE_MODIFIED = pd.to_datetime(date.today().isoformat())\n",
    "dict_registry_gen_updated.AUTHOR = 'i.zemskov@skmmp.ru'\n",
    "dict_registry_gen_updated.STATE = 3"
   ]
  },
  {
   "cell_type": "code",
   "execution_count": 310,
   "metadata": {},
   "outputs": [
    {
     "name": "stdout",
     "output_type": "stream",
     "text": [
      "Table dict_gtprge_gen updated!\n"
     ]
    }
   ],
   "source": [
    "try:\n",
    "    assert(dict_registry_gen_updated.shape[0] == dict_registry_gen.shape[0] + missing_stations_data.shape[0])\n",
    "    print('Table dict_gtprge_gen updated!')\n",
    "except AssertionError as e:\n",
    "    print(\"Something's gone wrong!\")\n",
    "    traceback.print_exc()"
   ]
  },
  {
   "cell_type": "code",
   "execution_count": 320,
   "metadata": {},
   "outputs": [],
   "source": [
    "lower_dict_cols = dict_registry_gen.columns.map(lambda s: s.lower())\n",
    "dict_registry_gen_updated.columns = dict_registry_gen_updated.columns.map(lambda s: s.lower())\n",
    "# updating excel file\n",
    "book = load_workbook('data/hdbk_323.xlsx')\n",
    "writer = pd.ExcelWriter('data/hdbk_323.xlsx', engine='openpyxl')\n",
    "writer.book = book\n",
    "writer.sheets = dict((ws.title, ws) for ws in book.worksheets)\n",
    "dict_registry_gen_updated[lower_dict_cols].to_excel(writer, sheet_name='REGISTRY_GEN', index=False)\n",
    "writer.save()\n",
    "writer.close()"
   ]
  },
  {
   "cell_type": "markdown",
   "metadata": {},
   "source": [
    "### Добавляем новые холдинги на лист \"Holdings\" справочника"
   ]
  },
  {
   "cell_type": "code",
   "execution_count": 321,
   "metadata": {},
   "outputs": [],
   "source": [
    "holdings = pd.read_excel('data/hdbk_323.xlsx', sheet_name='HOLDINGS')"
   ]
  },
  {
   "cell_type": "code",
   "execution_count": 332,
   "metadata": {},
   "outputs": [],
   "source": [
    "holdings_dict = dict()\n",
    "for k, v in holding_tcode_dict.items():\n",
    "    if len(v[1]) == 8:\n",
    "        holdings_dict[v[0]] = v[1]"
   ]
  },
  {
   "cell_type": "code",
   "execution_count": 341,
   "metadata": {},
   "outputs": [],
   "source": [
    "new_holdings = pd.DataFrame.from_dict(holdings_dict, orient='index').reset_index()\n",
    "new_holdings.columns = ['HOLDING', 'CODE']\n",
    "new_holdings['DATE_FROM'] = pd.to_datetime(date.today().replace(day=1).isoformat())\n",
    "new_holdings['STATE'] = 3"
   ]
  },
  {
   "cell_type": "code",
   "execution_count": 348,
   "metadata": {},
   "outputs": [],
   "source": [
    "new_holdings.columns = [c.lower() for c in new_holdings.columns]\n",
    "holdings_updated = pd.concat([holdings, new_holdings], axis = 0).sort_values(by=['date_from', 'holding'])"
   ]
  },
  {
   "cell_type": "code",
   "execution_count": 357,
   "metadata": {},
   "outputs": [],
   "source": [
    "holdings_updated.date_modified = pd.to_datetime(date.today().isoformat())\n",
    "holdings_updated.author = 'i.zemskov@skmmp.ru'"
   ]
  },
  {
   "cell_type": "code",
   "execution_count": 359,
   "metadata": {},
   "outputs": [],
   "source": [
    "# updating excel file\n",
    "lower_dict_cols = holdings.columns\n",
    "book = load_workbook('data/hdbk_323.xlsx')\n",
    "writer = pd.ExcelWriter('data/hdbk_323.xlsx', engine='openpyxl')\n",
    "writer.book = book\n",
    "writer.sheets = dict((ws.title, ws) for ws in book.worksheets)\n",
    "holdings_updated[lower_dict_cols].to_excel(writer, sheet_name='HOLDINGS', index=False)\n",
    "writer.save()\n",
    "writer.close()"
   ]
  },
  {
   "cell_type": "code",
   "execution_count": 20,
   "metadata": {},
   "outputs": [],
   "source": [
    "#holdings_updated.head()"
   ]
  },
  {
   "cell_type": "markdown",
   "metadata": {},
   "source": [
    "### Сверка информации по существующим РГЕ справочника DICT_GTPRGE_GEN  c данными RIO"
   ]
  },
  {
   "cell_type": "code",
   "execution_count": 20,
   "metadata": {},
   "outputs": [],
   "source": [
    "def compare_fields(f1, f2):\n",
    "    \n",
    "    \"\"\"Helper function for comparing 2 str fields \"\"\"\n",
    "        \n",
    "    return str(f1).lower().strip() == str(f2).lower().strip()\n",
    "    \n",
    "def compare_series(s1, s2):\n",
    "    \n",
    "    \"\"\"Helper function for comparing 2 series\"\"\"\n",
    "    \n",
    "    for f1, f2 in zip(s1, s2):\n",
    "            yield compare_fields(f1, f2)\n",
    "            \n",
    "\n",
    "def compare_gtprge_rio(dict_df, rio_df, left_on, right_on, comp_cols, \n",
    "                              month='JAN2018', till_date_col='DATE_TO', draw_map=False):\n",
    "    \n",
    "    \"\"\" Finds rows in dict with values of fields (station_code, station_name, gtp_code,\n",
    "    gtp_name, rge_name) that differs from ones in rio\n",
    "        Attributes:\n",
    "            dict_df - dictionary data\n",
    "            rio_df - RIO data\n",
    "            by_cols - list of column names on which to merge dataframes\n",
    "            comp_cols - list of column names which are compared \n",
    "                (must be named equal in both dataframes)\n",
    "            month - code of month, for which comparing is executing\n",
    "            till_date_col - name of the 'end date of period of relevance' column\n",
    "            draw_map - default: False; if True then draw the map of unmatching fields\n",
    "        Returns dictionary with:\n",
    "            result_mask - binary matrix of shape dict_df.shape: mask of matching for each field of dict_df\n",
    "            matched_rows_mask - binary vector of shape dict_df.shape[0]: mask of matching rows\n",
    "            unmatched_rows_mask - binary vector of shape dict_df.shape[0]: mask of unmatching rows\n",
    "            dict_rio - result of merging two dataframes by secified columns\n",
    "    \"\"\"     \n",
    "     \n",
    "    # select only actual information\n",
    "    actual_dict_rows = dict_df[dict_df[till_date_col].isnull()]\n",
    "    \n",
    "    cols = comp_cols\n",
    "    \n",
    "    #actual_dict_rows = actual_dict_rows[left_on + cols]\n",
    "    #rio_df = rio_df[right_on + cols]\n",
    "    \n",
    "    # merge two datasets\n",
    "    dict_rio = actual_dict_rows.merge(right=rio_df, left_on=left_on, right_on=right_on, \\\n",
    "                                      how='left', suffixes=('_DICT', '_RIO')).sort_values(by=left_on)\n",
    "    dict_rio = dict_rio.drop(right_on, axis=1)\n",
    "    \n",
    "    # check if merging was OK\n",
    "    assert(actual_dict_rows.shape[0] == dict_rio.shape[0])\n",
    "    \n",
    "    # check for duplicate RGE codes\n",
    "    assert(len(pd.unique(dict_rio.RGE_NUM)) == dict_rio.shape[0])\n",
    "    \n",
    "    # obtaining map of unmatched fields\n",
    "    result_mask = []\n",
    "    result_mask_dict = {}\n",
    "    for col in cols:\n",
    "        col1 = col + '_DICT'\n",
    "        col2 = col + '_RIO'\n",
    "        #print('Comparing columns ' + col1 + ' and ' + col2)\n",
    "        result_mask.append(list(compare_series(dict_rio[col1], dict_rio[col2])))\n",
    "        result_mask_dict[col] = list(compare_series(dict_rio[col1], dict_rio[col2]))\n",
    "        \n",
    "    result_mask = np.array(result_mask)\n",
    "    \n",
    "    # logical sum: checking if there's any fully matched rows\n",
    "    matched_rows_mask = (np.sum(result_mask, axis = 0) == result_mask.shape[0])\n",
    "    unmatched_rows_mask = (np.sum(result_mask, axis = 0) != result_mask.shape[0])\n",
    "    \n",
    "    try:\n",
    "        assert(np.sum(unmatched_rows_mask) + np.sum(matched_rows_mask) == result_mask.shape[1])\n",
    "    except AssertionError as e:\n",
    "        print('Sum of matched and unmatched rows is not equal to the total number of rows compared!')\n",
    "        traceback.print_exc()\n",
    "        \n",
    "    # plotting report of matched/unmatched rows\n",
    "    if draw_map:\n",
    "        fig, ax = plt.subplots(figsize=(8, 12)) \n",
    "        sns.heatmap(result_mask.astype(int).T)\n",
    "        plt.title('Map of matched/unmatched columns')\n",
    "        ax.set_xticklabels(cols)\n",
    "        ax.tick_params(axis='y', which='both', left=False, right=False, labelleft=False)\n",
    "        plt.tight_layout(rect=[0, 0.03, 1, 0.95])\n",
    "        plt.show()\n",
    "    \n",
    "    result = {'result_mask_dict': result_mask_dict,\n",
    "             'matched_rows_mask': matched_rows_mask,\n",
    "             'unmatched_rows_mask': unmatched_rows_mask,\n",
    "             'dict_rio': dict_rio}\n",
    "        \n",
    "    return result"
   ]
  },
  {
   "cell_type": "code",
   "execution_count": 21,
   "metadata": {},
   "outputs": [
    {
     "data": {
      "image/png": "[encoded data removed]",
      "text/plain": [
       "<matplotlib.figure.Figure at 0x240719f8550>"
      ]
     },
     "metadata": {},
     "output_type": "display_data"
    }
   ],
   "source": [
    "# example of usage of compare_gtprge_rio function:\n",
    "cols = ['STATION_CODE', 'STATION_NAME', 'GTP_CODE', 'GTP_NAME', 'RGE_NAME']\n",
    "res = compare_gtprge_rio(dict_gtprge_gen, rio_data, ['RGE_NUM'], ['RGE_CODE'], cols, draw_map=True)"
   ]
  },
  {
   "cell_type": "code",
   "execution_count": 25,
   "metadata": {},
   "outputs": [],
   "source": [
    "def update_gtprge(df, by_col_mask, matched_mask, author):\n",
    "    \n",
    "    \"\"\" Updates the initial dictionary according to this algorithm:\n",
    "        1. If there's difference in STATION_CODE or GTP_CODE fields in a row, \n",
    "            then set the DATE_TO variable of such row to the 1st of current month.\n",
    "            Then create new row with new value of STATION_CODE or GTP_CODE,\n",
    "            DATE_FROM variable is set to the 1st of current month, DATE_TO - empty.\n",
    "            All other variable values take from the RIO file.\n",
    "        2. If there's difference only in STATION_NAME value - take it from RIO file. Ignore the rest.\n",
    "        3. Else - do nothing. If there's difference in GTP_NAME or RGE_NAME fields - ignore it.\n",
    "        \n",
    "        Attributes: \n",
    "            compare_mask - result of the comparison of dict and rio data \n",
    "                (compare_gtprge_rio(...).get('result_mask_dict'));\n",
    "            \n",
    "        Return:\n",
    "            updated dict_gtprge_gen \n",
    "            \n",
    "    \"\"\"\n",
    "    \n",
    "    \n",
    "    def generate_comment(x):\n",
    "        \n",
    "        \"\"\"Generate text for 'comment' field, based on unmatching condition.\n",
    "            Attributes:\n",
    "                x = dataframe row, containing station code and gtp_code variables from both dict and rio data.\n",
    "            Returns:\n",
    "                text of the comment field\n",
    "        \"\"\"\n",
    "        \n",
    "        if not compare_fields(x[0], x[1]) and not compare_fields(x[2], x[3]):\n",
    "            return f'{x[0]}, {x[2]}'\n",
    "        elif not compare_fields(x[0], x[1]) and compare_fields(x[2], x[3]):\n",
    "            return f'{x[0]}'\n",
    "        elif compare_fields(x[0], x[1]) and not compare_fields(x[2], x[3]):\n",
    "            return f'{x[2]}'\n",
    "        else:\n",
    "            return ''\n",
    "        \n",
    "        \n",
    "    cols = ['STATION_CODE', 'STATION_NAME', 'GTP_CODE',\n",
    "           'GTP_NAME', 'RGE_NUM', 'RGE_NAME', 'DAY_AHEAD_TYPE',\n",
    "           'DATE_FROM', 'DATE_TO', 'AUTHOR', 'STATE', 'DATE_MODIFIED', 'COMMENT']\n",
    "    \n",
    "    src_cols = ['STATION_CODE_DICT', 'STATION_NAME_DICT', 'GTP_CODE_DICT',\n",
    "           'GTP_NAME_DICT', 'RGE_NUM', 'RGE_NAME_DICT', 'DAY_AHEAD_TYPE',\n",
    "           'DATE_FROM', 'DATE_TO', 'AUTHOR', 'STATE', 'DATE_MODIFIED', 'COMMENT']\n",
    "    \n",
    "    # condition 1\n",
    "    unmatched_codes_rows = df.iloc[np.logical_not(np.array(by_col_mask.get('STATION_CODE'))) | \\\n",
    "                                np.logical_not(np.array(by_col_mask.get('GTP_CODE')))]\n",
    "    \n",
    "    # default empty output frame for condition 1\n",
    "    unmatched_codes_fixed = pd.DataFrame(columns = cols)\n",
    "    \n",
    "    # condition 2\n",
    "    unmatched_names_rows = df.iloc[np.logical_not(by_col_mask.get('STATION_NAME')) & \\\n",
    "                                  np.array(by_col_mask.get('STATION_CODE')) & \\\n",
    "                                           np.array(by_col_mask.get('GTP_CODE'))]\n",
    "    \n",
    "    # condition 3\n",
    "    matched_rows = df.iloc[matched_mask]\n",
    "    \n",
    "    # other rows\n",
    "    other_rows = df.iloc[np.array(by_col_mask.get('STATION_CODE')) & \\\n",
    "                                           np.array(by_col_mask.get('GTP_CODE')) \\\n",
    "                        & by_col_mask.get('STATION_NAME') & np.logical_not(matched_mask)]\n",
    "    \n",
    "    num_rows = unmatched_codes_rows.shape[0] + unmatched_names_rows.shape[0] + \\\n",
    "        matched_rows.shape[0] + other_rows.shape[0]\n",
    "\n",
    "    assert(num_rows == df.shape[0])\n",
    "\n",
    "    # manage with 1st-condition rows if exist\n",
    "    if not unmatched_codes_rows.empty:\n",
    "        old_rows = unmatched_codes_rows[['STATION_CODE_DICT', 'STATION_NAME_DICT', 'GTP_CODE_DICT',\n",
    "           'GTP_NAME_DICT', 'RGE_NUM', 'RGE_NAME_DICT', 'DAY_AHEAD_TYPE',\n",
    "           'DATE_FROM', 'DATE_TO', 'AUTHOR', 'STATE', 'DATE_MODIFIED', 'COMMENT']]\n",
    "\n",
    "        # update value of the date_to field\n",
    "        old_rows['DATE_TO'] = pd.to_datetime(date.today().replace(day=1).isoformat())\n",
    "\n",
    "        new_rows = unmatched_codes_rows[['STATION_CODE_RIO', 'STATION_NAME_RIO', 'GTP_CODE_RIO',\n",
    "           'GTP_NAME_RIO', 'RGE_NUM', 'RGE_NAME_RIO', 'DAY_AHEAD_TYPE',\n",
    "           'DATE_FROM', 'DATE_TO', 'AUTHOR', 'STATE', 'DATE_MODIFIED', 'COMMENT']]\n",
    "\n",
    "        # update value of the day_ahead_type field\n",
    "        new_rows['DAY_AHEAD_TYPE'] = unmatched_codes_rows['IS_SPOT_TRADER'].map(lambda v: 0 if v == 1 else 2)\n",
    "        new_rows['DATE_FROM'] = pd.to_datetime(date.today().replace(day=1).isoformat())\n",
    "        new_rows['DATE_TO'] = NaN\n",
    "        new_rows['AUTHOR'] = author\n",
    "        new_rows['COMMENT'] = unmatched_codes_rows[['STATION_CODE_DICT', 'STATION_CODE_RIO', \n",
    "                                                  'GTP_CODE_DICT', 'GTP_CODE_RIO']] \\\n",
    "                                    .apply(generate_comment, axis=1)\n",
    "        old_rows.columns = cols\n",
    "        new_rows.columns = cols\n",
    "        \n",
    "        unmatched_codes_fixed = pd.concat([old_rows, new_rows], axis=0)\n",
    "        unmatched_codes_fixed.columns = cols\n",
    "        \n",
    "        print(f'{unmatched_codes_fixed.shape[0] - unmatched_codes_rows.shape[0]} rows were added!')\n",
    "        \n",
    "    else:\n",
    "        \n",
    "        unmatched_codes_fixed = pd.DataFrame(columns=cols)\n",
    "        \n",
    "    # manage with 2st-condition rows if exist: take station_name from rio column\n",
    "    if not unmatched_names_rows.empty:\n",
    "        unmatched_names_fixed = unmatched_names_rows[['STATION_CODE_DICT', 'STATION_NAME_RIO', 'GTP_CODE_DICT',\n",
    "           'GTP_NAME_DICT', 'RGE_NUM', 'RGE_NAME_DICT', 'DAY_AHEAD_TYPE',\n",
    "           'DATE_FROM', 'DATE_TO', 'AUTHOR', 'STATE', 'DATE_MODIFIED', 'COMMENT']]\n",
    "        unmatched_names_fixed.columns = cols\n",
    "            \n",
    "    # finally, manage with matched rows\n",
    "    matched_rows = matched_rows[src_cols]\n",
    "    matched_rows.columns = cols\n",
    "    \n",
    "    # manage with other rows\n",
    "    other_rows = other_rows[src_cols]\n",
    "    other_rows.columns = cols\n",
    "    print(f' Number of matched rows = {matched_rows.shape[0]}, \\n \\\n",
    "Number of rows with unmatched station_code or gtp_code = {unmatched_codes_fixed.shape[0]}, \\n \\\n",
    "Number of rows with unmatched station_name = {unmatched_names_fixed.shape[0]}, \\n \\\n",
    "Number of other rows = {other_rows.shape[0]}')\n",
    "    result_df = pd.concat([matched_rows, unmatched_codes_fixed, unmatched_names_fixed, other_rows], axis=0) \\\n",
    "                                    .sort_values(['RGE_NUM', 'DATE_TO'])\n",
    "    \n",
    "    # set column names to lowercase for compatibility with Exergy loader\n",
    "    cols_lower = [c.lower() for c in cols]\n",
    "    result_df.columns = cols_lower\n",
    "        \n",
    "    return result_df"
   ]
  },
  {
   "cell_type": "code",
   "execution_count": 23,
   "metadata": {},
   "outputs": [],
   "source": [
    "res = compare_gtprge_rio(dict_gtprge_gen, rio_data, ['RGE_NUM'], ['RGE_CODE'], cols, draw_map=False)"
   ]
  },
  {
   "cell_type": "code",
   "execution_count": 24,
   "metadata": {},
   "outputs": [
    {
     "name": "stdout",
     "output_type": "stream",
     "text": [
      " Number of matched rows = 387, \n",
      " Number of rows with unmatched station_code or gtp_code = 0, \n",
      " Number of rows with unmatched station_name = 214, \n",
      " Number of other rows = 870\n"
     ]
    }
   ],
   "source": [
    "updated_gtprge_dict = update_gtprge(res['dict_rio'], res['result_mask_dict'], res['matched_rows_mask'], 'i.zemskov@skmmp.com')"
   ]
  },
  {
   "cell_type": "code",
   "execution_count": 19,
   "metadata": {},
   "outputs": [
    {
     "data": {
      "text/plain": [
       "(1471, 13)"
      ]
     },
     "execution_count": 19,
     "metadata": {},
     "output_type": "execute_result"
    }
   ],
   "source": [
    "updated_gtprge_dict.shape"
   ]
  },
  {
   "cell_type": "code",
   "execution_count": 24,
   "metadata": {},
   "outputs": [
    {
     "data": {
      "text/plain": [
       "Index(['station_code', 'station_name', 'gtp_code', 'gtp_name', 'rge_num',\n",
       "       'rge_name', 'day_ahead_type', 'date_from', 'date_to', 'author', 'state',\n",
       "       'date_modified', 'comment'],\n",
       "      dtype='object')"
      ]
     },
     "execution_count": 24,
     "metadata": {},
     "output_type": "execute_result"
    }
   ],
   "source": [
    "updated_gtprge_dict.columns"
   ]
  },
  {
   "cell_type": "code",
   "execution_count": 26,
   "metadata": {},
   "outputs": [
    {
     "data": {
      "text/plain": [
       "(1632, 13)"
      ]
     },
     "execution_count": 26,
     "metadata": {},
     "output_type": "execute_result"
    }
   ],
   "source": [
    "dict_gtprge_gen.shape"
   ]
  }
 ],
 "metadata": {
  "kernelspec": {
   "display_name": "Python 3",
   "language": "python",
   "name": "python3"
  },
  "language_info": {
   "codemirror_mode": {
    "name": "ipython",
    "version": 3
   },
   "file_extension": ".py",
   "mimetype": "text/x-python",
   "name": "python",
   "nbconvert_exporter": "python",
   "pygments_lexer": "ipython3",
   "version": "3.6.4"
  }
 },
 "nbformat": 4,
 "nbformat_minor": 2
}
